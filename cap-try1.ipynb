{
 "cells": [
  {
   "cell_type": "markdown",
   "id": "800ca542",
   "metadata": {},
   "source": [
    "!pip install imutils"
   ]
  },
  {
   "cell_type": "code",
   "execution_count": 46,
   "id": "371fe71f",
   "metadata": {
    "scrolled": false
   },
   "outputs": [
    {
     "name": "stdout",
     "output_type": "stream",
     "text": [
      "/c/Users/Admin\n"
     ]
    }
   ],
   "source": [
    "!pwd"
   ]
  },
  {
   "cell_type": "code",
   "execution_count": 47,
   "id": "29a8e712",
   "metadata": {},
   "outputs": [],
   "source": [
    "import cv2\n",
    "import numpy as np\n",
    "import imutils"
   ]
  },
  {
   "cell_type": "code",
   "execution_count": 83,
   "id": "82978582",
   "metadata": {
    "scrolled": true
   },
   "outputs": [
    {
     "data": {
      "text/plain": [
       "array([[[197, 191, 184],\n",
       "        [197, 191, 184],\n",
       "        [194, 191, 183],\n",
       "        ...,\n",
       "        [197, 195, 194],\n",
       "        [195, 193, 192],\n",
       "        [195, 193, 192]],\n",
       "\n",
       "       [[196, 190, 183],\n",
       "        [196, 190, 183],\n",
       "        [193, 190, 182],\n",
       "        ...,\n",
       "        [197, 195, 194],\n",
       "        [196, 194, 193],\n",
       "        [196, 194, 193]],\n",
       "\n",
       "       [[193, 190, 182],\n",
       "        [193, 190, 182],\n",
       "        [192, 189, 181],\n",
       "        ...,\n",
       "        [196, 194, 193],\n",
       "        [195, 193, 192],\n",
       "        [195, 193, 192]],\n",
       "\n",
       "       ...,\n",
       "\n",
       "       [[142,  30,  64],\n",
       "        [143,  32,  64],\n",
       "        [144,  34,  63],\n",
       "        ...,\n",
       "        [198, 194, 189],\n",
       "        [197, 193, 188],\n",
       "        [196, 192, 187]],\n",
       "\n",
       "       [[135,  26,  58],\n",
       "        [137,  28,  60],\n",
       "        [141,  34,  61],\n",
       "        ...,\n",
       "        [198, 195, 190],\n",
       "        [196, 193, 188],\n",
       "        [193, 190, 185]],\n",
       "\n",
       "       [[131,  22,  54],\n",
       "        [132,  24,  53],\n",
       "        [137,  30,  57],\n",
       "        ...,\n",
       "        [198, 195, 190],\n",
       "        [195, 192, 187],\n",
       "        [191, 188, 183]]], dtype=uint8)"
      ]
     },
     "execution_count": 83,
     "metadata": {},
     "output_type": "execute_result"
    }
   ],
   "source": [
    "# Load an image\n",
    "img = cv2.imread('cap.jpg')\n",
    "#img = cv2.imread('circles0.jpg')\n",
    "assert img is not None, \"file could not be read, check with os.path.exists()\"\n",
    "img"
   ]
  },
  {
   "cell_type": "code",
   "execution_count": 84,
   "id": "b5541eb7",
   "metadata": {},
   "outputs": [],
   "source": [
    "# Resize an image\n",
    "if img.shape[1] > 600:\n",
    "    img = imutils.resize(img, width=600)\n",
    "clone = img.copy()\n",
    " \n",
    "# Convert to grayscale\n",
    "gray = cv2.cvtColor(clone, cv2.COLOR_BGR2GRAY)\n",
    " \n",
    "# Threshold grayscaled image to get binary image\n",
    "ret,gray_threshed = cv2.threshold(gray,150,255,cv2.THRESH_BINARY)\n",
    " \n",
    "# Smooth an image\n",
    "bilateral_filtered_image = cv2.bilateralFilter(gray_threshed, 5, 175, 175)\n",
    " "
   ]
  },
  {
   "cell_type": "code",
   "execution_count": 85,
   "id": "cc065c6d",
   "metadata": {
    "scrolled": true
   },
   "outputs": [
    {
     "data": {
      "text/plain": [
       "array([[0, 0, 0, ..., 0, 0, 0],\n",
       "       [0, 0, 0, ..., 0, 0, 0],\n",
       "       [0, 0, 0, ..., 0, 0, 0],\n",
       "       ...,\n",
       "       [0, 0, 0, ..., 0, 0, 0],\n",
       "       [0, 0, 0, ..., 0, 0, 0],\n",
       "       [0, 0, 0, ..., 0, 0, 0]], dtype=uint8)"
      ]
     },
     "execution_count": 85,
     "metadata": {},
     "output_type": "execute_result"
    }
   ],
   "source": [
    "\n",
    "# Find edges\n",
    "edge_detected_image = cv2.Canny(bilateral_filtered_image, 75, 200)\n",
    "edge_detected_image"
   ]
  },
  {
   "cell_type": "code",
   "execution_count": 86,
   "id": "62db1d4c",
   "metadata": {
    "scrolled": true
   },
   "outputs": [],
   "source": [
    "\n",
    "# Find contours\n",
    "contours, _= cv2.findContours(edge_detected_image, cv2.RETR_TREE, cv2.CHAIN_APPROX_SIMPLE)\n",
    " \n"
   ]
  },
  {
   "cell_type": "code",
   "execution_count": null,
   "id": "cdded43e",
   "metadata": {
    "scrolled": true
   },
   "outputs": [],
   "source": [
    "len(contours)"
   ]
  },
  {
   "cell_type": "code",
   "execution_count": 88,
   "id": "f060ab31",
   "metadata": {},
   "outputs": [],
   "source": [
    "contour_list = []\n",
    "\n",
    "for contour in contours:\n",
    "    approx = cv2.approxPolyDP(contour,0.01*cv2.arcLength(contour,True),True)\n",
    "    area = cv2.contourArea(contour)\n",
    "    if ((len(approx) > 8) & (50000 > area > 10000) ):\n",
    "        contour_list.append(contour)"
   ]
  },
  {
   "cell_type": "code",
   "execution_count": null,
   "id": "42f36ef3",
   "metadata": {},
   "outputs": [],
   "source": [
    "\n",
    " \n",
    "# Draw contours\n",
    "cv2.drawContours(clone, contour_list, -1, (255,0,0), 2)\n",
    " \n",
    "# Displaying the results\n",
    "cv2.imshow(\"Original\", img)\n",
    "cv2.imshow('Smooth', bilateral_filtered_image)\n",
    "cv2.imshow('Edge', edge_detected_image)\n",
    "cv2.imshow('Objects Detected',clone)\n",
    "cv2.waitKey(0)"
   ]
  },
  {
   "cell_type": "code",
   "execution_count": null,
   "id": "581883dd",
   "metadata": {},
   "outputs": [],
   "source": [
    "len(contours)"
   ]
  },
  {
   "cell_type": "code",
   "execution_count": 67,
   "id": "5356489f",
   "metadata": {},
   "outputs": [
    {
     "data": {
      "text/plain": [
       "array([[[313,  97]],\n",
       "\n",
       "       [[312,  98]],\n",
       "\n",
       "       [[311,  98]],\n",
       "\n",
       "       [[307, 102]],\n",
       "\n",
       "       [[306, 102]],\n",
       "\n",
       "       [[306, 103]],\n",
       "\n",
       "       [[304, 105]],\n",
       "\n",
       "       [[304, 111]],\n",
       "\n",
       "       [[302, 113]],\n",
       "\n",
       "       [[302, 114]],\n",
       "\n",
       "       [[298, 118]],\n",
       "\n",
       "       [[298, 121]],\n",
       "\n",
       "       [[311, 121]],\n",
       "\n",
       "       [[312, 120]],\n",
       "\n",
       "       [[315, 120]],\n",
       "\n",
       "       [[316, 119]],\n",
       "\n",
       "       [[318, 119]],\n",
       "\n",
       "       [[320, 117]],\n",
       "\n",
       "       [[322, 119]],\n",
       "\n",
       "       [[322, 120]],\n",
       "\n",
       "       [[326, 120]],\n",
       "\n",
       "       [[328, 118]],\n",
       "\n",
       "       [[329, 118]],\n",
       "\n",
       "       [[330, 117]],\n",
       "\n",
       "       [[331, 117]],\n",
       "\n",
       "       [[332, 116]],\n",
       "\n",
       "       [[337, 116]],\n",
       "\n",
       "       [[337, 115]],\n",
       "\n",
       "       [[338, 114]],\n",
       "\n",
       "       [[339, 114]],\n",
       "\n",
       "       [[340, 115]],\n",
       "\n",
       "       [[340, 116]],\n",
       "\n",
       "       [[339, 117]],\n",
       "\n",
       "       [[340, 118]],\n",
       "\n",
       "       [[340, 119]],\n",
       "\n",
       "       [[345, 124]],\n",
       "\n",
       "       [[345, 132]],\n",
       "\n",
       "       [[346, 133]],\n",
       "\n",
       "       [[346, 140]],\n",
       "\n",
       "       [[351, 140]],\n",
       "\n",
       "       [[352, 141]],\n",
       "\n",
       "       [[356, 141]],\n",
       "\n",
       "       [[356, 132]],\n",
       "\n",
       "       [[355, 131]],\n",
       "\n",
       "       [[355, 129]],\n",
       "\n",
       "       [[356, 128]],\n",
       "\n",
       "       [[356, 126]],\n",
       "\n",
       "       [[358, 124]],\n",
       "\n",
       "       [[359, 124]],\n",
       "\n",
       "       [[360, 123]],\n",
       "\n",
       "       [[362, 123]],\n",
       "\n",
       "       [[363, 122]],\n",
       "\n",
       "       [[366, 122]],\n",
       "\n",
       "       [[367, 121]],\n",
       "\n",
       "       [[368, 121]],\n",
       "\n",
       "       [[370, 119]],\n",
       "\n",
       "       [[371, 120]],\n",
       "\n",
       "       [[372, 120]],\n",
       "\n",
       "       [[373, 121]],\n",
       "\n",
       "       [[374, 120]],\n",
       "\n",
       "       [[374, 115]],\n",
       "\n",
       "       [[372, 113]],\n",
       "\n",
       "       [[372, 112]],\n",
       "\n",
       "       [[371, 111]],\n",
       "\n",
       "       [[371, 110]],\n",
       "\n",
       "       [[366, 105]],\n",
       "\n",
       "       [[358, 105]],\n",
       "\n",
       "       [[357, 106]],\n",
       "\n",
       "       [[354, 106]],\n",
       "\n",
       "       [[353, 105]],\n",
       "\n",
       "       [[350, 105]],\n",
       "\n",
       "       [[349, 104]],\n",
       "\n",
       "       [[347, 104]],\n",
       "\n",
       "       [[346, 103]],\n",
       "\n",
       "       [[346, 102]],\n",
       "\n",
       "       [[345, 103]],\n",
       "\n",
       "       [[344, 102]],\n",
       "\n",
       "       [[344, 103]],\n",
       "\n",
       "       [[343, 104]],\n",
       "\n",
       "       [[343, 105]],\n",
       "\n",
       "       [[342, 106]],\n",
       "\n",
       "       [[340, 106]],\n",
       "\n",
       "       [[337, 103]],\n",
       "\n",
       "       [[337, 101]],\n",
       "\n",
       "       [[338, 100]],\n",
       "\n",
       "       [[338,  97]],\n",
       "\n",
       "       [[336,  97]],\n",
       "\n",
       "       [[335,  98]],\n",
       "\n",
       "       [[332,  98]],\n",
       "\n",
       "       [[329, 101]],\n",
       "\n",
       "       [[328, 101]],\n",
       "\n",
       "       [[325,  98]],\n",
       "\n",
       "       [[324,  98]],\n",
       "\n",
       "       [[323,  97]]], dtype=int32)"
      ]
     },
     "execution_count": 67,
     "metadata": {},
     "output_type": "execute_result"
    }
   ],
   "source": [
    "# find the biggest countour (c) by the area\n",
    "c = max(contours, key = cv2.contourArea)\n",
    "c"
   ]
  },
  {
   "cell_type": "code",
   "execution_count": 68,
   "id": "3d029458",
   "metadata": {},
   "outputs": [
    {
     "name": "stdout",
     "output_type": "stream",
     "text": [
      "(230.85325743200505, 171.6236559139785, 141.67172675521823, 0.0)\n"
     ]
    },
    {
     "data": {
      "text/plain": [
       "-1"
      ]
     },
     "execution_count": 68,
     "metadata": {},
     "output_type": "execute_result"
    }
   ],
   "source": [
    "#gray = cv2.cvtColor(im,cv2.COLOR_BGR2GRAY)\n",
    "#contours,h = cv2.findContours(gray,cv2.RETR_TREE,cv2.CHAIN_APPROX_SIMPLE)\n",
    "\n",
    "final = np.zeros(img.shape,np.uint8)\n",
    "mask = np.zeros(gray.shape,np.uint8)\n",
    "\n",
    "#for i in range(0,len(contours)):\n",
    "for i in range(0,len([c])):\n",
    "    mask[...]=0\n",
    "    cv2.drawContours(mask,[c],i,255,-1)\n",
    "    cv2.drawContours(final,[c],i,cv2.mean(img,mask),-1)\n",
    "    print(cv2.mean(img,mask))\n",
    "\n",
    "cv2.imshow('im',img)\n",
    "cv2.imshow('final',final)\n",
    "cv2.waitKey(0)"
   ]
  },
  {
   "cell_type": "markdown",
   "id": "9647d7f2",
   "metadata": {},
   "source": [
    "!pip install webcolors"
   ]
  },
  {
   "cell_type": "code",
   "execution_count": 4,
   "id": "7e574d9b",
   "metadata": {},
   "outputs": [],
   "source": [
    "from webcolors import rgb_to_name"
   ]
  },
  {
   "cell_type": "code",
   "execution_count": 24,
   "id": "e1b6bd81",
   "metadata": {
    "scrolled": true
   },
   "outputs": [
    {
     "data": {
      "text/plain": [
       "(226.86963696369637, 151.73597359735973, 129.84323432343234, 0.0)"
      ]
     },
     "execution_count": 24,
     "metadata": {},
     "output_type": "execute_result"
    }
   ],
   "source": [
    "cv2.mean(img,mask)"
   ]
  },
  {
   "cell_type": "code",
   "execution_count": 27,
   "id": "f374af67",
   "metadata": {
    "scrolled": true
   },
   "outputs": [
    {
     "ename": "ValueError",
     "evalue": "\"#e29781\" has no defined color name in css3.",
     "output_type": "error",
     "traceback": [
      "\u001b[1;31m---------------------------------------------------------------------------\u001b[0m",
      "\u001b[1;31mValueError\u001b[0m                                Traceback (most recent call last)",
      "Cell \u001b[1;32mIn[27], line 1\u001b[0m\n\u001b[1;32m----> 1\u001b[0m \u001b[43mrgb_to_name\u001b[49m\u001b[43m(\u001b[49m\u001b[43m(\u001b[49m\u001b[38;5;28;43mint\u001b[39;49m\u001b[43m(\u001b[49m\u001b[43mx\u001b[49m\u001b[43m)\u001b[49m\u001b[43m \u001b[49m\u001b[38;5;28;43;01mfor\u001b[39;49;00m\u001b[43m \u001b[49m\u001b[43mx\u001b[49m\u001b[43m \u001b[49m\u001b[38;5;129;43;01min\u001b[39;49;00m\u001b[43m \u001b[49m\u001b[43mcv2\u001b[49m\u001b[38;5;241;43m.\u001b[39;49m\u001b[43mmean\u001b[49m\u001b[43m(\u001b[49m\u001b[43mimg\u001b[49m\u001b[43m,\u001b[49m\u001b[43mmask\u001b[49m\u001b[43m)\u001b[49m\u001b[43m[\u001b[49m\u001b[43m:\u001b[49m\u001b[38;5;241;43m3\u001b[39;49m\u001b[43m]\u001b[49m\u001b[43m)\u001b[49m\u001b[43m)\u001b[49m\n",
      "File \u001b[1;32m~\\miniconda3\\envs\\cvenv\\lib\\site-packages\\webcolors\\conversion.py:239\u001b[0m, in \u001b[0;36mrgb_to_name\u001b[1;34m(rgb_triplet, spec)\u001b[0m\n\u001b[0;32m    207\u001b[0m \u001b[38;5;28;01mdef\u001b[39;00m \u001b[38;5;21mrgb_to_name\u001b[39m(rgb_triplet: types\u001b[38;5;241m.\u001b[39mIntTuple, spec: \u001b[38;5;28mstr\u001b[39m \u001b[38;5;241m=\u001b[39m constants\u001b[38;5;241m.\u001b[39mCSS3) \u001b[38;5;241m-\u001b[39m\u001b[38;5;241m>\u001b[39m \u001b[38;5;28mstr\u001b[39m:\n\u001b[0;32m    208\u001b[0m \u001b[38;5;250m    \u001b[39m\u001b[38;5;124;03m\"\"\"\u001b[39;00m\n\u001b[0;32m    209\u001b[0m \u001b[38;5;124;03m    Convert a 3-:class:`tuple` of :class:`int`, suitable for use in an ``rgb()``\u001b[39;00m\n\u001b[0;32m    210\u001b[0m \u001b[38;5;124;03m    color triplet, to its corresponding normalized color name, if any\u001b[39;00m\n\u001b[1;32m   (...)\u001b[0m\n\u001b[0;32m    237\u001b[0m \n\u001b[0;32m    238\u001b[0m \u001b[38;5;124;03m    \"\"\"\u001b[39;00m\n\u001b[1;32m--> 239\u001b[0m     \u001b[38;5;28;01mreturn\u001b[39;00m \u001b[43mhex_to_name\u001b[49m\u001b[43m(\u001b[49m\n\u001b[0;32m    240\u001b[0m \u001b[43m        \u001b[49m\u001b[43mrgb_to_hex\u001b[49m\u001b[43m(\u001b[49m\u001b[43mnormalization\u001b[49m\u001b[38;5;241;43m.\u001b[39;49m\u001b[43mnormalize_integer_triplet\u001b[49m\u001b[43m(\u001b[49m\u001b[43mrgb_triplet\u001b[49m\u001b[43m)\u001b[49m\u001b[43m)\u001b[49m\u001b[43m,\u001b[49m\u001b[43m \u001b[49m\u001b[43mspec\u001b[49m\u001b[38;5;241;43m=\u001b[39;49m\u001b[43mspec\u001b[49m\n\u001b[0;32m    241\u001b[0m \u001b[43m    \u001b[49m\u001b[43m)\u001b[49m\n",
      "File \u001b[1;32m~\\miniconda3\\envs\\cvenv\\lib\\site-packages\\webcolors\\conversion.py:152\u001b[0m, in \u001b[0;36mhex_to_name\u001b[1;34m(hex_value, spec)\u001b[0m\n\u001b[0;32m    148\u001b[0m name \u001b[38;5;241m=\u001b[39m \u001b[38;5;28mgetattr\u001b[39m(constants, \u001b[38;5;124mf\u001b[39m\u001b[38;5;124m\"\u001b[39m\u001b[38;5;132;01m{\u001b[39;00mspec\u001b[38;5;241m.\u001b[39mupper()\u001b[38;5;132;01m}\u001b[39;00m\u001b[38;5;124m_HEX_TO_NAMES\u001b[39m\u001b[38;5;124m\"\u001b[39m)\u001b[38;5;241m.\u001b[39mget(\n\u001b[0;32m    149\u001b[0m     normalization\u001b[38;5;241m.\u001b[39mnormalize_hex(hex_value)\n\u001b[0;32m    150\u001b[0m )\n\u001b[0;32m    151\u001b[0m \u001b[38;5;28;01mif\u001b[39;00m name \u001b[38;5;129;01mis\u001b[39;00m \u001b[38;5;28;01mNone\u001b[39;00m:\n\u001b[1;32m--> 152\u001b[0m     \u001b[38;5;28;01mraise\u001b[39;00m \u001b[38;5;167;01mValueError\u001b[39;00m(\u001b[38;5;124mf\u001b[39m\u001b[38;5;124m'\u001b[39m\u001b[38;5;124m\"\u001b[39m\u001b[38;5;132;01m{\u001b[39;00mhex_value\u001b[38;5;132;01m}\u001b[39;00m\u001b[38;5;124m\"\u001b[39m\u001b[38;5;124m has no defined color name in \u001b[39m\u001b[38;5;132;01m{\u001b[39;00mspec\u001b[38;5;132;01m}\u001b[39;00m\u001b[38;5;124m.\u001b[39m\u001b[38;5;124m'\u001b[39m)\n\u001b[0;32m    153\u001b[0m \u001b[38;5;28;01mreturn\u001b[39;00m name\n",
      "\u001b[1;31mValueError\u001b[0m: \"#e29781\" has no defined color name in css3."
     ]
    }
   ],
   "source": [
    "rgb_to_name((int(x) for x in cv2.mean(img,mask)[:3]))"
   ]
  }
 ],
 "metadata": {
  "kernelspec": {
   "display_name": "Python [conda env:cvenv]",
   "language": "python",
   "name": "conda-env-cvenv-py"
  },
  "language_info": {
   "codemirror_mode": {
    "name": "ipython",
    "version": 3
   },
   "file_extension": ".py",
   "mimetype": "text/x-python",
   "name": "python",
   "nbconvert_exporter": "python",
   "pygments_lexer": "ipython3",
   "version": "3.9.18"
  }
 },
 "nbformat": 4,
 "nbformat_minor": 5
}
