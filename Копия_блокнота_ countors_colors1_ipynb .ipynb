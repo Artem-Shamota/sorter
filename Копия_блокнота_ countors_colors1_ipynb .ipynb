{
 "cells": [
  {
   "cell_type": "markdown",
   "metadata": {
    "colab": {
     "base_uri": "https://localhost:8080/"
    },
    "id": "2jNQZAXOAZjP",
    "outputId": "61334323-74c5-4ae5-8545-90b3727147b2"
   },
   "source": [
    "! pip install opencv-python imutils"
   ]
  },
  {
   "cell_type": "code",
   "execution_count": null,
   "metadata": {
    "id": "KJpVnh4KAeUH"
   },
   "outputs": [],
   "source": [
    "import cv2\n",
    "import numpy as np\n",
    "import imutils"
   ]
  },
  {
   "cell_type": "code",
   "execution_count": null,
   "metadata": {
    "id": "NSW9sXZRBBK2"
   },
   "outputs": [],
   "source": [
    "# Load an image\n",
    "img = cv2.imread('7.jpg')\n",
    "#img = cv2.imread('circles0.jpg')\n",
    "assert img is not None, \"file could not be read, check with os.path.exists()\""
   ]
  },
  {
   "cell_type": "code",
   "execution_count": null,
   "metadata": {
    "id": "SmWZz_VhBFCO"
   },
   "outputs": [],
   "source": [
    "# Resize an image\n",
    "if img.shape[1] > 600:\n",
    "    img = imutils.resize(img, width=600)\n",
    "clone = img.copy()\n",
    "\n",
    "# Convert to grayscale\n",
    "gray = cv2.cvtColor(clone, cv2.COLOR_BGR2GRAY)\n",
    "\n",
    "# Threshold grayscaled image to get binary image\n",
    "ret,gray_threshed = cv2.threshold(gray,150,255,cv2.THRESH_BINARY)\n",
    "\n",
    "# Smooth an image\n",
    "bilateral_filtered_image = cv2.bilateralFilter(gray_threshed, 5, 175, 175)"
   ]
  },
  {
   "cell_type": "code",
   "execution_count": null,
   "metadata": {
    "colab": {
     "base_uri": "https://localhost:8080/"
    },
    "id": "yzg6MzwwBJ2a",
    "outputId": "9e8406f2-5f73-44a9-c21a-907928fc46ac"
   },
   "outputs": [],
   "source": [
    "\n",
    "# Find edges\n",
    "edge_detected_image = cv2.Canny(bilateral_filtered_image, 75, 200)\n",
    "edge_detected_image"
   ]
  },
  {
   "cell_type": "code",
   "execution_count": null,
   "metadata": {
    "colab": {
     "base_uri": "https://localhost:8080/"
    },
    "id": "t0devjGMBNGM",
    "outputId": "11891627-9a84-4af5-afd6-b9d6ea09645c"
   },
   "outputs": [],
   "source": [
    "\n",
    "# Find contours\n",
    "contours, _= cv2.findContours(edge_detected_image, cv2.RETR_TREE, cv2.CHAIN_APPROX_SIMPLE)\n",
    "\n",
    "len(contours)"
   ]
  },
  {
   "cell_type": "code",
   "execution_count": null,
   "metadata": {
    "id": "SJm9kvwrBUOk"
   },
   "outputs": [],
   "source": [
    "contour_list = []\n",
    "\n",
    "for contour in contours:\n",
    "    approx = cv2.approxPolyDP(contour,0.01*cv2.arcLength(contour,True),True)\n",
    "    area = cv2.contourArea(contour)\n",
    "    if ((len(approx) > 8) & (50000 > area > 10000) ):\n",
    "        contour_list.append(contour)"
   ]
  },
  {
   "cell_type": "code",
   "execution_count": null,
   "metadata": {
    "colab": {
     "base_uri": "https://localhost:8080/",
     "height": 1000
    },
    "id": "yUV8RVE9Bdzj",
    "outputId": "92eace12-0d2b-4557-90ec-8fbd8de5b2ba"
   },
   "outputs": [],
   "source": [
    "# Draw contours\n",
    "#from google.colab.patches import cv2_imshow\n",
    "cv2.drawContours(clone, contour_list, -1, (255,0,0), 2)\n",
    "\n",
    "# Displaying the results\n",
    "#cv2_imshow(img)\n",
    "#cv2_imshow(bilateral_filtered_image)\n",
    "#cv2_imshow(edge_detected_image)\n",
    "#cv2_imshow(clone)\n",
    "#cv2.waitKey(0)\n",
    "\n",
    "cv2.imshow(\"Original\", img)\n",
    "cv2.imshow('Smooth',bilateral_filtered_image)\n",
    "cv2.imshow('Edge',edge_detected_image)\n",
    "cv2.imshow('Objects Detected',clone)\n",
    "cv2.waitKey(0)"
   ]
  },
  {
   "cell_type": "code",
   "execution_count": null,
   "metadata": {
    "colab": {
     "base_uri": "https://localhost:8080/",
     "height": 1000
    },
    "id": "gV_E5AqJBloU",
    "outputId": "10e72b38-de00-4f36-fecd-02d45a772c66",
    "scrolled": true
   },
   "outputs": [],
   "source": [
    "# get colours\n",
    "\n",
    "#gray = cv2.cvtColor(im,cv2.COLOR_BGR2GRAY)\n",
    "#contours,h = cv2.findContours(gray,cv2.RETR_TREE,cv2.CHAIN_APPROX_SIMPLE)\n",
    "\n",
    "final = np.zeros(img.shape,np.uint8)\n",
    "mask = np.zeros(gray.shape,np.uint8)\n",
    "\n",
    "for i in range(0,len(contours)):\n",
    "    mask[...]=0\n",
    "    cv2.drawContours(mask,contours,i,255,-1)\n",
    "    cv2.drawContours(final,contours,i,cv2.mean(img,mask),-1)\n",
    "    print(cv2.mean(img,mask))\n",
    "\n",
    "cv2.imshow(\".\",img)\n",
    "cv2.imshow(\"/\",final)\n",
    "#cv2_waitKey(0)"
   ]
  },
  {
   "cell_type": "code",
   "execution_count": null,
   "metadata": {
    "id": "Evscv67cLfO6"
   },
   "outputs": [],
   "source": [
    "\n",
    "c = max(contours, key = cv2.contourArea)\n",
    "c"
   ]
  },
  {
   "cell_type": "code",
   "execution_count": null,
   "metadata": {
    "id": "6qe_3D8ahB6M"
   },
   "outputs": [],
   "source": [
    "import time\n"
   ]
  },
  {
   "cell_type": "code",
   "execution_count": null,
   "metadata": {
    "id": "IoJ5K4FSnTPZ"
   },
   "outputs": [],
   "source": [
    "frame = cv2.imread('cap2.jpg')\n",
    "\n",
    "hsv = cv2.cvtColor(frame, cv2.COLOR_BGR2HSV)\n",
    "\n",
    "lower_green = np.array([40, 40, 40])\n",
    "upper_green = np.array([80, 255, 255])\n",
    "\n",
    "green_mask = cv2.inRange(hsv, lower_green, upper_green)\n",
    "\n",
    "\n",
    "contours, _ = cv2.findContours(green_mask, cv2.RETR_TREE, cv2.CHAIN_APPROX_SIMPLE)\n",
    "for contour in contours:\n",
    "  if (cv2.contourArea(contour) > 15000):\n",
    "    x, y, w, h = cv2.boundingRect(contour)\n",
    "    cv2.rectangle(frame, (x, y), (x + w, y + h), (0, 255, 0), 2)\n",
    "    cv2.putText(frame, 'green', (x, y), cv2.FONT_HERSHEY_SIMPLEX, 0.9, (0, 0, 255), 2)\n",
    "\n",
    "\n",
    "hsv = cv2.cvtColor(frame, cv2.COLOR_BGR2HSV)\n",
    "\n",
    "lower_red = np.array([150, 100, 200])\n",
    "upper_red = np.array([198, 120, 255])\n",
    "\n",
    "red_mask = cv2.inRange(hsv, lower_red, upper_red)\n",
    "\n",
    "\n",
    "contours, _ = cv2.findContours(red_mask, cv2.RETR_TREE, cv2.CHAIN_APPROX_SIMPLE)\n",
    "for contour in contours:\n",
    "    if (cv2.contourArea(contour) > 15000):\n",
    "      x, y, w, h = cv2.boundingRect(contour)\n",
    "      #hsv_image = cv2.cvtColor(frame, cv2.COLOR_BGR2HSV)\n",
    "      #print(x, y)\n",
    "      #h, s, v = hsv_image[y, x-120]\n",
    "\n",
    "      #print(\"HSV value of pixel ({}, {}): ({}, {}, {})\".format(x, y, h, s, v))\n",
    "      cv2.rectangle(frame, (x, y), (x + w, y + h), (0, 0, 255), 2)\n",
    "      cv2.putText(frame, 'red', (x, y), cv2.FONT_HERSHEY_SIMPLEX, 0.9, (0, 0, 255), 2)\n",
    "\n",
    "\n",
    "\n",
    "hsv = cv2.cvtColor(frame, cv2.COLOR_BGR2HSV)\n",
    "\n",
    "lower_blue = np.array([90, 50, 50])\n",
    "upper_blue = np.array([130, 255, 255])\n",
    "\n",
    "blue_mask = cv2.inRange(hsv, lower_blue, upper_blue)\n",
    "\n",
    "contours, _ = cv2.findContours(blue_mask, cv2.RETR_TREE, cv2.CHAIN_APPROX_SIMPLE)\n",
    "for contour in contours:\n",
    "  if (cv2.contourArea(contour) > 15000):\n",
    "    x, y, w, h = cv2.boundingRect(contour)\n",
    "    cv2.rectangle(frame, (x, y), (x + w, y + h), (255, 0, 0), 2)\n",
    "    cv2.putText(frame, 'blue', (x, y), cv2.FONT_HERSHEY_SIMPLEX, 0.9, (0, 0, 255), 2)"
   ]
  },
  {
   "cell_type": "code",
   "execution_count": null,
   "metadata": {
    "colab": {
     "base_uri": "https://localhost:8080/",
     "height": 551
    },
    "id": "uTE8QIFcnXDp",
    "outputId": "2e220c7e-23f4-49a4-e269-f6eb010e784e"
   },
   "outputs": [],
   "source": [
    "cv2.imshow(\"<\",frame)"
   ]
  },
  {
   "cell_type": "code",
   "execution_count": null,
   "metadata": {
    "id": "RS8OzQTzoKt3"
   },
   "outputs": [],
   "source": [
    "frame = cv2.imread('caps1.png')\n",
    "\n",
    "hsv = cv2.cvtColor(frame, cv2.COLOR_BGR2HSV)\n",
    "\n",
    "lower_green = np.array([40, 40, 40])\n",
    "upper_green = np.array([80, 255, 255])\n",
    "\n",
    "green_mask = cv2.inRange(hsv, lower_green, upper_green)\n",
    "\n",
    "\n",
    "contours, _ = cv2.findContours(green_mask, cv2.RETR_TREE, cv2.CHAIN_APPROX_SIMPLE)\n",
    "for contour in contours:\n",
    "  if (cv2.contourArea(contour) > 15000):\n",
    "    x, y, w, h = cv2.boundingRect(contour)\n",
    "    cv2.rectangle(frame, (x, y), (x + w, y + h), (0, 255, 0), 2)\n",
    "    cv2.putText(frame, 'green', (x, y), cv2.FONT_HERSHEY_SIMPLEX, 0.9, (0, 0, 255), 2)\n",
    "\n",
    "\n",
    "hsv = cv2.cvtColor(frame, cv2.COLOR_BGR2HSV)\n",
    "\n",
    "lower_red = np.array([150, 100, 200])\n",
    "upper_red = np.array([198, 120, 255])\n",
    "\n",
    "red_mask = cv2.inRange(hsv, lower_red, upper_red)\n",
    "\n",
    "\n",
    "contours, _ = cv2.findContours(red_mask, cv2.RETR_TREE, cv2.CHAIN_APPROX_SIMPLE)\n",
    "for contour in contours:\n",
    "    if (cv2.contourArea(contour) > 15000):\n",
    "      x, y, w, h = cv2.boundingRect(contour)\n",
    "      #hsv_image = cv2.cvtColor(frame, cv2.COLOR_BGR2HSV)\n",
    "      #print(x, y)\n",
    "      #h, s, v = hsv_image[y, x-120]\n",
    "\n",
    "      #print(\"x, y, HSV ({}, {}): ({}, {}, {})\".format(x, y, h, s, v))\n",
    "      cv2.rectangle(frame, (x, y), (x + w, y + h), (0, 0, 255), 2)\n",
    "      cv2.putText(frame, 'red', (x, y), cv2.FONT_HERSHEY_SIMPLEX, 0.9, (0, 0, 255), 2)\n",
    "\n",
    "\n",
    "\n",
    "hsv = cv2.cvtColor(frame, cv2.COLOR_BGR2HSV)\n",
    "\n",
    "lower_blue = np.array([90, 50, 50])\n",
    "upper_blue = np.array([130, 255, 255])\n",
    "\n",
    "blue_mask = cv2.inRange(hsv, lower_blue, upper_blue)\n",
    "\n",
    "contours, _ = cv2.findContours(blue_mask, cv2.RETR_TREE, cv2.CHAIN_APPROX_SIMPLE)\n",
    "for contour in contours:\n",
    "  if (cv2.contourArea(contour) > 15000):\n",
    "    x, y, w, h = cv2.boundingRect(contour)\n",
    "    cv2.rectangle(frame, (x, y), (x + w, y + h), (255, 0, 0), 2)\n",
    "    cv2.putText(frame, 'blue', (x, y), cv2.FONT_HERSHEY_SIMPLEX, 0.9, (0, 0, 255), 2)"
   ]
  },
  {
   "cell_type": "code",
   "execution_count": null,
   "metadata": {
    "colab": {
     "base_uri": "https://localhost:8080/",
     "height": 517
    },
    "id": "idL7XesCs1Q0",
    "outputId": "8f7356cb-cb50-470e-b52c-cc9cdcbd25bc"
   },
   "outputs": [],
   "source": [
    "cv2.imshow(\"l\",frame)"
   ]
  },
  {
   "cell_type": "code",
   "execution_count": null,
   "metadata": {
    "id": "w30McM4Ts4Ci"
   },
   "outputs": [],
   "source": []
  }
 ],
 "metadata": {
  "colab": {
   "provenance": []
  },
  "kernelspec": {
   "display_name": "Python [conda env:cvenv]",
   "language": "python",
   "name": "conda-env-cvenv-py"
  },
  "language_info": {
   "codemirror_mode": {
    "name": "ipython",
    "version": 3
   },
   "file_extension": ".py",
   "mimetype": "text/x-python",
   "name": "python",
   "nbconvert_exporter": "python",
   "pygments_lexer": "ipython3",
   "version": "3.9.18"
  }
 },
 "nbformat": 4,
 "nbformat_minor": 1
}
